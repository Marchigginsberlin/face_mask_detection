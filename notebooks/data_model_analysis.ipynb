{
 "cells": [
  {
   "cell_type": "markdown",
   "id": "41f695eb",
   "metadata": {},
   "source": [
    "## Face_mask_detection_notebook"
   ]
  },
  {
   "cell_type": "markdown",
   "id": "0f386928",
   "metadata": {},
   "source": [
    "### Import Libraries"
   ]
  },
  {
   "cell_type": "code",
   "execution_count": 1,
   "id": "39325e70",
   "metadata": {},
   "outputs": [],
   "source": [
    "import numpy as np \n",
    "import pandas as pd \n",
    "import matplotlib.pyplot as plt \n",
    "import os\n",
    "import random \n",
    "random.seed(42)"
   ]
  },
  {
   "cell_type": "code",
   "execution_count": 2,
   "id": "26c462dc",
   "metadata": {},
   "outputs": [],
   "source": [
    "from tensorflow.keras import models, layers\n",
    "from tensorflow.keras.layers import Dense, Reshape\n",
    "from tensorflow.keras.callbacks import EarlyStopping\n",
    "from tensorflow.keras.callbacks import ModelCheckpoint \n",
    "from tensorflow.math import confusion_matrix"
   ]
  },
  {
   "cell_type": "code",
   "execution_count": 3,
   "id": "76548f86",
   "metadata": {},
   "outputs": [],
   "source": [
    "import tensorflow as tf "
   ]
  },
  {
   "cell_type": "code",
   "execution_count": 4,
   "id": "778a0139",
   "metadata": {},
   "outputs": [],
   "source": [
    "import tensorflow as tf \n",
    "from tensorflow.keras.preprocessing import image_dataset_from_directory\n",
    "from tensorflow.keras.preprocessing.image import load_img\n",
    "from tensorflow.keras.layers.experimental.preprocessing import Rescaling\n",
    "from tensorflow.keras.utils import to_categorical"
   ]
  },
  {
   "cell_type": "code",
   "execution_count": 5,
   "id": "ae879d97",
   "metadata": {},
   "outputs": [],
   "source": [
    "from sklearn.model_selection import train_test_split\n",
    "from datetime import datetime \n",
    "from sklearn.metrics import classification_report\n",
    "from sklearn.metrics import ConfusionMatrixDisplay\n",
    "from sklearn.metrics import confusion_matrix"
   ]
  },
  {
   "cell_type": "markdown",
   "id": "0572186e",
   "metadata": {
    "heading_collapsed": true
   },
   "source": [
    "### Import for large model with csv"
   ]
  },
  {
   "cell_type": "markdown",
   "id": "ac82e35b",
   "metadata": {
    "hidden": true
   },
   "source": [
    "#### Create Dataframe of Data "
   ]
  },
  {
   "cell_type": "code",
   "execution_count": null,
   "id": "24a2e822",
   "metadata": {
    "hidden": true
   },
   "outputs": [],
   "source": [
    "directory_no_mask = '../raw_data/Dataset/without_mask/'\n",
    "\n",
    "no_mask_names = os.listdir(directory_no_mask)\n",
    "\n",
    "no_mask_df = pd.DataFrame()\n",
    "no_mask_df['file_name'] = no_mask_names\n",
    "no_mask_df['file_name'] = directory_no_mask + no_mask_df['file_name']\n",
    "no_mask_df['label'] = 0"
   ]
  },
  {
   "cell_type": "code",
   "execution_count": null,
   "id": "1600b66e",
   "metadata": {
    "hidden": true
   },
   "outputs": [],
   "source": [
    "no_mask_df.shape"
   ]
  },
  {
   "cell_type": "code",
   "execution_count": null,
   "id": "3e8da916",
   "metadata": {
    "hidden": true
   },
   "outputs": [],
   "source": [
    "directory_wrong_mask = '../raw_data/Dataset/mask_weared_incorrect/'\n",
    "\n",
    "wrong_mask_names = os.listdir(directory_wrong_mask)\n",
    "\n",
    "wrong_mask_df = pd.DataFrame()\n",
    "wrong_mask_df['file_name'] = wrong_mask_names\n",
    "wrong_mask_df['file_name'] = directory_wrong_mask + wrong_mask_df['file_name']\n",
    "wrong_mask_df['label'] = 1"
   ]
  },
  {
   "cell_type": "code",
   "execution_count": null,
   "id": "ba0283f2",
   "metadata": {
    "hidden": true
   },
   "outputs": [],
   "source": [
    "wrong_mask_df.shape"
   ]
  },
  {
   "cell_type": "code",
   "execution_count": null,
   "id": "7fed20ca",
   "metadata": {
    "hidden": true
   },
   "outputs": [],
   "source": [
    "directory_with_mask = '../raw_data/Dataset/with_mask/'\n",
    "\n",
    "with_mask_names = os.listdir(directory_with_mask)\n",
    "\n",
    "with_mask_df = pd.DataFrame()\n",
    "with_mask_df['file_name'] = with_mask_names\n",
    "with_mask_df['file_name'] = directory_with_mask + with_mask_df['file_name']\n",
    "with_mask_df['label'] = 2"
   ]
  },
  {
   "cell_type": "code",
   "execution_count": null,
   "id": "ddb3bc1b",
   "metadata": {
    "hidden": true
   },
   "outputs": [],
   "source": [
    "with_mask_df.shape"
   ]
  },
  {
   "cell_type": "code",
   "execution_count": null,
   "id": "597c305f",
   "metadata": {
    "hidden": true
   },
   "outputs": [],
   "source": [
    "df = pd.concat([no_mask_df,wrong_mask_df,with_mask_df])"
   ]
  },
  {
   "cell_type": "code",
   "execution_count": null,
   "id": "e82ea814",
   "metadata": {
    "hidden": true
   },
   "outputs": [],
   "source": [
    "df.shape"
   ]
  },
  {
   "cell_type": "code",
   "execution_count": null,
   "id": "e8af8081",
   "metadata": {
    "hidden": true
   },
   "outputs": [],
   "source": [
    "df.head()"
   ]
  },
  {
   "cell_type": "markdown",
   "id": "33747884",
   "metadata": {
    "hidden": true
   },
   "source": [
    "#### Create Train, Test, Val Set "
   ]
  },
  {
   "cell_type": "code",
   "execution_count": null,
   "id": "97f77256",
   "metadata": {
    "hidden": true
   },
   "outputs": [],
   "source": [
    "X_train, X_test, y_train, y_test = train_test_split(df.iloc[:,0], df.iloc[:,1:], test_size=0.20, random_state=42)\n",
    "\n",
    "X_train, X_val, y_train, y_val = train_test_split(X_train, y_train, test_size=0.10, random_state=42)"
   ]
  },
  {
   "cell_type": "code",
   "execution_count": null,
   "id": "b15663b4",
   "metadata": {
    "hidden": true
   },
   "outputs": [],
   "source": [
    "def read_img(image_file, label):\n",
    "    image = tf.io.read_file(image_file)\n",
    "    image = tf.image.decode_image(image, channels = 3, dtype = tf.float32)\n",
    "    image = tf.image.resize_with_pad(image, 224, 224)\n",
    "     #image = image / 255.\n",
    "    return image, label "
   ]
  },
  {
   "cell_type": "code",
   "execution_count": null,
   "id": "3444311c",
   "metadata": {
    "hidden": true
   },
   "outputs": [],
   "source": [
    "y_cat_train = to_categorical(y_train, num_classes=3)\n",
    "y_cat_val = to_categorical(y_val, num_classes=3)\n",
    "y_cat_test = to_categorical(y_test, num_classes=3)\n",
    "y_cat_train.shape"
   ]
  },
  {
   "cell_type": "code",
   "execution_count": null,
   "id": "1eec82b6",
   "metadata": {
    "hidden": true
   },
   "outputs": [],
   "source": [
    "ds_train = tf.data.Dataset.from_tensor_slices((X_train.values , y_cat_train))\n",
    "ds_train = ds_train.map(read_img).batch(32)"
   ]
  },
  {
   "cell_type": "code",
   "execution_count": null,
   "id": "c2310023",
   "metadata": {
    "hidden": true
   },
   "outputs": [],
   "source": [
    "ds_val = tf.data.Dataset.from_tensor_slices((X_val.values, y_cat_val))\n",
    "ds_val = ds_val.map(read_img).batch(32)"
   ]
  },
  {
   "cell_type": "code",
   "execution_count": null,
   "id": "9b6f6814",
   "metadata": {
    "hidden": true
   },
   "outputs": [],
   "source": [
    "ds_test = tf.data.Dataset.from_tensor_slices((X_test.values, y_cat_test))\n",
    "ds_test = ds_test.map(read_img).batch(32)"
   ]
  },
  {
   "cell_type": "code",
   "execution_count": null,
   "id": "0f9b4749",
   "metadata": {
    "hidden": true
   },
   "outputs": [],
   "source": [
    "# not necessary with the current image import\n",
    "#X.scaled = X / 255"
   ]
  },
  {
   "cell_type": "markdown",
   "id": "8640a6a7",
   "metadata": {
    "heading_collapsed": true
   },
   "source": [
    "### Built a basic CNN just like in class"
   ]
  },
  {
   "cell_type": "code",
   "execution_count": null,
   "id": "710adb52",
   "metadata": {
    "hidden": true
   },
   "outputs": [],
   "source": [
    "model = models.Sequential()\n",
    "\n",
    "model.add(layers.Conv2D(6, kernel_size=(3, 3), activation='relu', padding='valid', input_shape=(224, 224, 3)))\n",
    "model.add(layers.Conv2D(4, kernel_size=(3), padding='valid', activation='relu')) # kernel_size = 3 <==> (3, 3)\n",
    "model.add(layers.Flatten())\n",
    "model.add(layers.Dense(3, activation='softmax')) \n",
    "\n",
    "model.summary() "
   ]
  },
  {
   "cell_type": "code",
   "execution_count": null,
   "id": "92b1636c",
   "metadata": {
    "hidden": true
   },
   "outputs": [],
   "source": [
    "model.compile(loss='categorical_crossentropy',\n",
    "              optimizer='adam',\n",
    "              metrics=['accuracy'])"
   ]
  },
  {
   "cell_type": "code",
   "execution_count": null,
   "id": "e894ede5",
   "metadata": {
    "hidden": true
   },
   "outputs": [],
   "source": [
    "es = EarlyStopping(patience=3, restore_best_weights=True)"
   ]
  },
  {
   "cell_type": "code",
   "execution_count": null,
   "id": "c5d5a7b9",
   "metadata": {
    "hidden": true
   },
   "outputs": [],
   "source": [
    "history =model.fit(ds_train, epochs = 10, validation_data = ds_val, callbacks = [es])"
   ]
  },
  {
   "cell_type": "code",
   "execution_count": null,
   "id": "25dab20f",
   "metadata": {
    "hidden": true
   },
   "outputs": [],
   "source": [
    "model.evaluate(ds_test, verbose=0)"
   ]
  },
  {
   "cell_type": "code",
   "execution_count": null,
   "id": "47f9d41a",
   "metadata": {
    "hidden": true
   },
   "outputs": [],
   "source": [
    "save_path = ('../models')\n",
    "model.save(save_path)"
   ]
  },
  {
   "cell_type": "code",
   "execution_count": null,
   "id": "5d5213a3",
   "metadata": {
    "hidden": true
   },
   "outputs": [],
   "source": [
    "save_path = ('../models')\n",
    "model = tf.keras.models.load_model(save_path)"
   ]
  },
  {
   "cell_type": "code",
   "execution_count": null,
   "id": "2f72d340",
   "metadata": {
    "hidden": true
   },
   "outputs": [],
   "source": [
    "model.summary()"
   ]
  },
  {
   "cell_type": "markdown",
   "id": "7986c963",
   "metadata": {
    "heading_collapsed": true
   },
   "source": [
    "### Building a reliable CNN"
   ]
  },
  {
   "cell_type": "code",
   "execution_count": null,
   "id": "3bfd6d81",
   "metadata": {
    "hidden": true
   },
   "outputs": [],
   "source": [
    "def initialize_model() :\n",
    "    model = models.Sequential()\n",
    "    model.add(layers.Conv2D(16, kernel_size=(4, 4), input_shape=(224, 224, 3), activation=\"relu\"))\n",
    "    model.add(layers.MaxPool2D(pool_size=(2,2))) \n",
    "\n",
    "    model.add(layers.Conv2D(32, kernel_size=(3, 3), activation=\"relu\"))\n",
    "    model.add(layers.MaxPool2D(pool_size=(2,2))) \n",
    "\n",
    "    model.add(layers.Conv2D(64, kernel_size=(2, 2), activation=\"relu\"))\n",
    "    model.add(layers.MaxPool2D(pool_size=(2,2))) \n",
    "\n",
    "    model.add(layers.Flatten())\n",
    "    model.add(layers.Dense(16, activation='relu'))\n",
    "    model.add(layers.Dropout(rate=0.16))\n",
    "\n",
    "    model.add(layers.Dense(3, activation='softmax')) \n",
    "\n",
    "    model.compile(loss='categorical_crossentropy',\n",
    "              optimizer='adam',\n",
    "              metrics=['accuracy'])\n",
    "\n",
    "    return model"
   ]
  },
  {
   "cell_type": "code",
   "execution_count": null,
   "id": "87716318",
   "metadata": {
    "hidden": true
   },
   "outputs": [],
   "source": [
    "model_cnn = initialize_model()\n",
    "model_cnn.summary()\n",
    "\n",
    "es = EarlyStopping(patience=5, restore_best_weights=True)"
   ]
  },
  {
   "cell_type": "code",
   "execution_count": null,
   "id": "088e9f16",
   "metadata": {
    "hidden": true
   },
   "outputs": [],
   "source": [
    "history = model_cnn.fit(ds_train, batch_size=32, epochs = 10, validation_data = ds_val, callbacks = [es])"
   ]
  },
  {
   "cell_type": "code",
   "execution_count": null,
   "id": "4e904ed0",
   "metadata": {
    "hidden": true
   },
   "outputs": [],
   "source": [
    "save_path = ('./drive/MyDrive/FACE_MASK_RECOGNITION/models/model_cnn_2_nd_mp2')\n",
    "model_cnn.save(save_path)"
   ]
  },
  {
   "cell_type": "code",
   "execution_count": null,
   "id": "1b18b889",
   "metadata": {
    "hidden": true
   },
   "outputs": [],
   "source": [
    "model_cnn.evaluate(ds_test)"
   ]
  },
  {
   "cell_type": "code",
   "execution_count": null,
   "id": "b7bf8af6",
   "metadata": {
    "hidden": true
   },
   "outputs": [],
   "source": [
    "# Fit the model\n",
    "# list all data in history\n",
    "# summarize history for accuracy\n",
    "plt.title(\"Training Loss and Accuracy\")\n",
    "plt.plot(history.history['accuracy'])\n",
    "plt.plot(history.history['val_accuracy'])\n",
    "plt.ylabel('accuracy')\n",
    "plt.xlabel('epoch')\n",
    "plt.legend(['train', 'test'], loc='upper left')\n",
    "# summarize history for loss\n",
    "plt.plot(history.history['loss'])\n",
    "plt.plot(history.history['val_loss'])\n",
    "plt.ylabel('loss')\n",
    "plt.xlabel('epoch')\n",
    "plt.legend(['train', 'test'])"
   ]
  },
  {
   "cell_type": "markdown",
   "id": "4b6e6ae7",
   "metadata": {
    "heading_collapsed": true
   },
   "source": [
    "### Transfer learning with a suitable network"
   ]
  },
  {
   "cell_type": "code",
   "execution_count": null,
   "id": "4e534507",
   "metadata": {
    "hidden": true
   },
   "outputs": [],
   "source": [
    "from tensorflow.keras.applications import MobileNetV2\n",
    "from tensorflow.keras.applications.mobilenet_v2 import preprocess_input"
   ]
  },
  {
   "cell_type": "markdown",
   "id": "dcda3a34",
   "metadata": {
    "heading_collapsed": true,
    "hidden": true
   },
   "source": [
    "#### MobileNetV2"
   ]
  },
  {
   "cell_type": "code",
   "execution_count": null,
   "id": "fa10b19a",
   "metadata": {
    "hidden": true
   },
   "outputs": [],
   "source": [
    "base_model_1 = MobileNetV2(weights=\"imagenet\", include_top=False,input_shape = (224,224,3)) \n",
    "base_model_1.trainable = False\n"
   ]
  },
  {
   "cell_type": "code",
   "execution_count": null,
   "id": "710095dc",
   "metadata": {
    "hidden": true
   },
   "outputs": [],
   "source": [
    "pooling = layers.MaxPool2D(pool_size=(2,2))\n",
    "flatten_layer = layers.Flatten()\n",
    "dense_1 = layers.Dense(128, activation=\"relu\")\n",
    "drop_1 = layers.Dropout(0.3)\n",
    "prediction_1 = layers.Dense(3, activation=\"softmax\")"
   ]
  },
  {
   "cell_type": "code",
   "execution_count": null,
   "id": "add7bbb0",
   "metadata": {
    "hidden": true
   },
   "outputs": [],
   "source": [
    "model1 = models.Sequential([\n",
    "    base_model_1,\n",
    "    pooling, \n",
    "    flatten_layer,\n",
    "    dense_1,\n",
    "    drop_1,\n",
    "    prediction_1\n",
    "])"
   ]
  },
  {
   "cell_type": "code",
   "execution_count": null,
   "id": "57ee40d5",
   "metadata": {
    "hidden": true
   },
   "outputs": [],
   "source": [
    "model1.summary()"
   ]
  },
  {
   "cell_type": "code",
   "execution_count": null,
   "id": "983080df",
   "metadata": {
    "hidden": true
   },
   "outputs": [],
   "source": [
    "model1.compile(loss='categorical_crossentropy',\n",
    "              optimizer='adam',\n",
    "              metrics=['accuracy'])"
   ]
  },
  {
   "cell_type": "code",
   "execution_count": null,
   "id": "cab09f2f",
   "metadata": {
    "hidden": true
   },
   "outputs": [],
   "source": [
    "es = EarlyStopping(patience=3, restore_best_weights=True)"
   ]
  },
  {
   "cell_type": "code",
   "execution_count": null,
   "id": "6553dbed",
   "metadata": {
    "hidden": true
   },
   "outputs": [],
   "source": [
    "history_1 = model1.fit(ds_train, epochs = 10, validation_data = ds_val, callbacks = [es])"
   ]
  },
  {
   "cell_type": "code",
   "execution_count": null,
   "id": "877c35f9",
   "metadata": {
    "hidden": true
   },
   "outputs": [],
   "source": [
    "model1.evaluate(ds_test)"
   ]
  },
  {
   "cell_type": "code",
   "execution_count": null,
   "id": "b06bbf50",
   "metadata": {
    "hidden": true
   },
   "outputs": [],
   "source": [
    "save_path = ('../models/Model_1')\n",
    "model1.save(save_path)"
   ]
  },
  {
   "cell_type": "code",
   "execution_count": null,
   "id": "2adca22f",
   "metadata": {
    "hidden": true
   },
   "outputs": [],
   "source": [
    "save_path = ('../models/model_1.1')\n",
    "model1 = tf.keras.models.load_model(save_path)"
   ]
  },
  {
   "cell_type": "code",
   "execution_count": null,
   "id": "6454ccf2",
   "metadata": {
    "hidden": true,
    "scrolled": false
   },
   "outputs": [],
   "source": [
    "# Fit the model\n",
    "# list all data in history\n",
    "# summarize history for accuracy\n",
    "plt.title(\"Training Loss and Accuracy\")\n",
    "plt.plot(history_1.history['accuracy'])\n",
    "plt.plot(history_1.history['val_accuracy'])\n",
    "plt.ylabel('accuracy')\n",
    "plt.xlabel('epoch')\n",
    "plt.legend(['train', 'test'], loc='upper left')\n",
    "# summarize history for loss\n",
    "plt.plot(history_1.history['loss'])\n",
    "plt.plot(history_1.history['val_loss'])\n",
    "plt.ylabel('loss')\n",
    "plt.xlabel('epoch')\n",
    "plt.legend(['train', 'test'])"
   ]
  },
  {
   "cell_type": "code",
   "execution_count": null,
   "id": "eba5658f",
   "metadata": {
    "hidden": true
   },
   "outputs": [],
   "source": [
    "prediction_proba_m1 = model1.predict(ds_test)\n",
    "\n",
    "prediction_m1 = prediction_proba_m1.argmax(axis = 1)\n",
    "\n",
    "print(confusion_matrix(y_test, prediction_m1))\n",
    "\n",
    "from sklearn.metrics import confusion_matrix\n",
    "print(confusion_matrix(y_test, prediction_m1))"
   ]
  },
  {
   "cell_type": "markdown",
   "id": "f4d08b17",
   "metadata": {
    "heading_collapsed": true,
    "hidden": true
   },
   "source": [
    "#### NASNetMobile"
   ]
  },
  {
   "cell_type": "code",
   "execution_count": null,
   "id": "fd8ed66f",
   "metadata": {
    "hidden": true
   },
   "outputs": [],
   "source": [
    "from tensorflow.keras.applications import NASNetMobile"
   ]
  },
  {
   "cell_type": "code",
   "execution_count": null,
   "id": "e49e2423",
   "metadata": {
    "hidden": true
   },
   "outputs": [],
   "source": [
    "base_model_2 = NASNetMobile(\n",
    "    input_shape= None,\n",
    "    include_top=True,\n",
    "    weights=\"imagenet\",\n",
    "    input_tensor=None,\n",
    "    pooling=None,\n",
    "    classes=1000,)\n",
    "base_model_2.trainable = False\n",
    "base_model.summary()"
   ]
  },
  {
   "cell_type": "code",
   "execution_count": null,
   "id": "d64c285c",
   "metadata": {
    "hidden": true
   },
   "outputs": [],
   "source": [
    "dense_layer = layers.Dense(500, activation = 'relu')\n",
    "prediction_layer = layers.Dense(3, activation = 'softmax')\n",
    "\n",
    "model2 = models.Sequential([\n",
    "    base_model_2, \n",
    "    prediction_layer\n",
    "])"
   ]
  },
  {
   "cell_type": "code",
   "execution_count": null,
   "id": "1e41affb",
   "metadata": {
    "hidden": true
   },
   "outputs": [],
   "source": [
    "model2.summary()"
   ]
  },
  {
   "cell_type": "code",
   "execution_count": null,
   "id": "f4901ef1",
   "metadata": {
    "hidden": true
   },
   "outputs": [],
   "source": [
    "model2.compile(loss='categorical_crossentropy',\n",
    "              optimizer='adam',\n",
    "              metrics=['accuracy'])"
   ]
  },
  {
   "cell_type": "code",
   "execution_count": null,
   "id": "7be3d203",
   "metadata": {
    "hidden": true
   },
   "outputs": [],
   "source": [
    "model2.fit(ds_train, epochs = 10, validation_data = ds_val, callbacks = [es])"
   ]
  },
  {
   "cell_type": "code",
   "execution_count": null,
   "id": "b8938cb7",
   "metadata": {
    "hidden": true
   },
   "outputs": [],
   "source": [
    "model2.evaluate(ds_test)"
   ]
  },
  {
   "cell_type": "code",
   "execution_count": null,
   "id": "62966015",
   "metadata": {
    "hidden": true
   },
   "outputs": [],
   "source": [
    "[0.5263108015060425, 0.5971062779426575]"
   ]
  },
  {
   "cell_type": "code",
   "execution_count": null,
   "id": "8066f4c2",
   "metadata": {
    "hidden": true
   },
   "outputs": [],
   "source": [
    "prediction_m2 = model2.predict(ds_test)"
   ]
  },
  {
   "cell_type": "code",
   "execution_count": null,
   "id": "87713abe",
   "metadata": {
    "hidden": true
   },
   "outputs": [],
   "source": [
    "confusion_matrix(y_test, prediction_m2)"
   ]
  },
  {
   "cell_type": "code",
   "execution_count": null,
   "id": "911e028d",
   "metadata": {
    "hidden": true
   },
   "outputs": [],
   "source": []
  },
  {
   "cell_type": "code",
   "execution_count": null,
   "id": "36fb59db",
   "metadata": {
    "hidden": true
   },
   "outputs": [],
   "source": []
  },
  {
   "cell_type": "markdown",
   "id": "b2721b25",
   "metadata": {
    "heading_collapsed": true
   },
   "source": [
    "### Face recognition MTCNN "
   ]
  },
  {
   "cell_type": "code",
   "execution_count": null,
   "id": "9e3f08bd",
   "metadata": {
    "hidden": true
   },
   "outputs": [],
   "source": [
    "import tensorflow as tf\n",
    "import cv2\n",
    "import mtcnn\n",
    "import os\n",
    "from PIL import Image"
   ]
  },
  {
   "cell_type": "code",
   "execution_count": null,
   "id": "28470738",
   "metadata": {
    "hidden": true
   },
   "outputs": [],
   "source": [
    "def load_picture(path_to_file):\n",
    "    img = tf.io.read_file(path_to_file)\n",
    "    img = tf.image.decode_image(img, channels = 3, dtype = tf.float32)\n",
    "    img = img.numpy()\n",
    "    return img\n",
    "    "
   ]
  },
  {
   "cell_type": "code",
   "execution_count": null,
   "id": "ee2a6231",
   "metadata": {
    "hidden": true
   },
   "outputs": [],
   "source": [
    "detector = mtcnn.MTCNN(steps_threshold=[0.8, 0.8, 0.8])\n",
    "def detect_faces(img):\n",
    "    faces= detector.detect_faces(img*255)\n",
    "    return faces"
   ]
  },
  {
   "cell_type": "code",
   "execution_count": null,
   "id": "58851316",
   "metadata": {
    "hidden": true
   },
   "outputs": [],
   "source": [
    "def face_from_coordinates(img,x,y,w,h):\n",
    "    return img[y:y+h,x:x+w]"
   ]
  },
  {
   "cell_type": "code",
   "execution_count": null,
   "id": "c7e3c15a",
   "metadata": {
    "hidden": true
   },
   "outputs": [],
   "source": [
    "def face_cropping(faces, img):\n",
    "    encoded_faces = []\n",
    "    for index, face in enumerate(faces):\n",
    "        encoded_faces.append(face_from_coordinates(img, *face['box']))\n",
    "    return encoded_faces"
   ]
  },
  {
   "cell_type": "code",
   "execution_count": null,
   "id": "b56efa9b",
   "metadata": {
    "hidden": true
   },
   "outputs": [],
   "source": [
    "def face_cropping(faces, img):\n",
    "    encoded_faces = []\n",
    "    for face in faces:\n",
    "        encoded_faces.append(face_from_coordinates(img, *face['box']))\n",
    "    return encoded_faces"
   ]
  },
  {
   "cell_type": "code",
   "execution_count": null,
   "id": "a33a0c69",
   "metadata": {
    "hidden": true
   },
   "outputs": [],
   "source": [
    "def prep_prediction_multi(encoded_face):\n",
    "    img = tf.image.resize_with_pad(encoded_face, 224, 224)\n",
    "    img= tf.expand_dims(img,0)\n",
    "    return img"
   ]
  },
  {
   "cell_type": "code",
   "execution_count": null,
   "id": "405379ba",
   "metadata": {
    "hidden": true
   },
   "outputs": [],
   "source": [
    "def prep_prediction_one(encoded_face):\n",
    "    img = tf.image.resize_with_pad(encoded_face, 224, 224)\n",
    "    #img= tf.expand_dims(img,0)\n",
    "    return img"
   ]
  },
  {
   "cell_type": "markdown",
   "id": "166c4fbe",
   "metadata": {
    "hidden": true
   },
   "source": [
    "Funktion for face probability prediction "
   ]
  },
  {
   "cell_type": "code",
   "execution_count": null,
   "id": "de3419cb",
   "metadata": {
    "hidden": true
   },
   "outputs": [],
   "source": [
    "def pred_mask(faces, img):\n",
    "    cropped_face= face_cropping(faces, img)\n",
    "    if len(cropped_face) == 1: \n",
    "        face = prep_prediction_one(cropped_face)\n",
    "        return [model.predict(face).argmax()]\n",
    "    elif len(cropped_face) > 1: \n",
    "        faces = []\n",
    "        for j in range(len(cropped_face)):\n",
    "            face = prep_prediction_multi(cropped_face[j])\n",
    "            faces.append(face)\n",
    "        predictions = []\n",
    "        for face in faces:\n",
    "            predictions.append(model.predict(face).argmax())\n",
    "        return predictions\n",
    "    else:\n",
    "        return [3]\n",
    "            "
   ]
  },
  {
   "cell_type": "code",
   "execution_count": null,
   "id": "651a4615",
   "metadata": {
    "hidden": true
   },
   "outputs": [],
   "source": [
    "def draw_image(image, coordinates, prediction):\n",
    "    color_corresp = {\n",
    "      0: (255,0,0),\n",
    "      1: (255,165,0),\n",
    "      2: (0,255,0)}\n",
    "    coordinates =[faces[i]['box'] for i in range(len(faces))]\n",
    "    for i in range(len(coordinates)):\n",
    "        cv2.rectangle(image,\n",
    "                      (coordinates[i][0],coordinates[i][1]),\n",
    "                      (coordinates[i][0]+coordinates[i][2],coordinates[i][1]+ coordinates[i][3]),\n",
    "                      color_corresp[prediction[i]],3)\n",
    "    plt.imshow(image)                \n",
    "                   \n"
   ]
  },
  {
   "cell_type": "code",
   "execution_count": null,
   "id": "e021b106",
   "metadata": {
    "hidden": true
   },
   "outputs": [],
   "source": [
    "save_path = ('../models/model_cnn')\n",
    "model = tf.keras.models.load_model(save_path)"
   ]
  },
  {
   "cell_type": "code",
   "execution_count": null,
   "id": "c98d3de0",
   "metadata": {
    "hidden": true
   },
   "outputs": [],
   "source": [
    "# load image from file\n",
    "#filename = '../raw_data/face_no_mask/no_mask_marga.jpg'\n",
    "filename = '../raw_data/face_with_mask/mask_marga_1.jpg'\n",
    "#filename = '../raw_data/archive/images/maksssksksss4.png'\n",
    "#filename = '../raw_data/Face_with_mask/Augmented_56_323581.png'\n"
   ]
  },
  {
   "cell_type": "code",
   "execution_count": null,
   "id": "6f26e03b",
   "metadata": {
    "hidden": true
   },
   "outputs": [],
   "source": [
    "plt.imshow(face_cropping(faces, img)[0])"
   ]
  },
  {
   "cell_type": "code",
   "execution_count": null,
   "id": "5f226da0",
   "metadata": {
    "hidden": true
   },
   "outputs": [],
   "source": [
    "filename = '../raw_data/testing_dataset/with_mask/68000_Mask.jpg'\n",
    "#filename = '../raw_data/testing_dataset/with_incorrect_mask/68000_Mask_Mouth_Chin.jpg'\n",
    "#filename = '../raw_data/testing_dataset/without_mask/68003.png'\n",
    "#filename = '../raw_data/face_no_mask/marc_no_mask.jpg'\n",
    "img = load_picture(filename)\n",
    "faces = detect_faces(img)\n",
    "prediction = pred_mask(faces, img)\n",
    "print(prediction)\n",
    "draw_image(img, faces, prediction)"
   ]
  },
  {
   "cell_type": "markdown",
   "id": "8b8902a3",
   "metadata": {
    "hidden": true
   },
   "source": [
    "#### Create dataset of images to predict"
   ]
  },
  {
   "cell_type": "code",
   "execution_count": null,
   "id": "7d932e92",
   "metadata": {
    "hidden": true
   },
   "outputs": [],
   "source": [
    "for i in range(0,10):\n",
    "        c_path = os.path.join(path_mask, list_mask[i])\n",
    "        X_model_test.append(plt.imread(c_path)[:, :, :])\n",
    "        y_model_test.append(2) \n",
    "    \n",
    "\n",
    "for i in range(0,10):\n",
    "        c_path = os.path.join(path_no_mask, list_no_mask[i])\n",
    "        X_model_test.append(plt.imread(c_path)[:, :, :])\n",
    "        y_model_test.append(0) \n",
    "\n",
    "for i in range(0,10):\n",
    "        c_path = os.path.join(path_incorrect_mask, list_incorrect_mask[i])\n",
    "        X_model_test.append(plt.imread(c_path)[:, :, :])\n",
    "        y_model_test.append(1) "
   ]
  },
  {
   "cell_type": "code",
   "execution_count": null,
   "id": "18b98a01",
   "metadata": {
    "hidden": true
   },
   "outputs": [],
   "source": [
    "#creating a test set of pictures with mask and without mask\n",
    "\n",
    "path_mask = '../raw_data/testing_dataset/with_mask'\n",
    "path_no_mask = '../raw_data/testing_dataset/without_mask'\n",
    "path_incorrect_mask = '../raw_data/testing_dataset/with_incorrect_mask'\n",
    "\n",
    "#path_mask = '../raw_data/Face_with_mask'\n",
    "#path_no_mask = '../raw_data/Face_no_Mask'\n",
    "\n",
    "list_mask = os.listdir(path_mask)\n",
    "list_mask.sort()\n",
    "\n",
    "\n",
    "list_no_mask = os.listdir(path_no_mask)\n",
    "list_no_mask.sort()\n",
    "\n",
    "list_incorrect_mask = os.listdir(path_incorrect_mask)\n",
    "list_incorrect_mask.sort()\n",
    "\n",
    "X_model_test = []\n",
    "y_model_test = []\n",
    "\n",
    "for i in range(0,10):\n",
    "        c_path = os.path.join(path_mask, list_mask[i])\n",
    "        img = tf.io.read_file(c_path)\n",
    "        img = tf.image.decode_image(img, channels = 3, dtype = tf.float32)\n",
    "        img = img.numpy()\n",
    "        X_model_test.append(img)\n",
    "        y_model_test.append(2) \n",
    "    \n",
    "\n",
    "for i in range(0,10):\n",
    "        c_path = os.path.join(path_no_mask, list_no_mask[i])\n",
    "        img = tf.io.read_file(c_path)\n",
    "        img = tf.image.decode_image(img, channels = 3, dtype = tf.float32)\n",
    "        img = img.numpy()\n",
    "        X_model_test.append(img)\n",
    "        y_model_test.append(0) \n",
    "\n",
    "for i in range(0,10):\n",
    "        c_path = os.path.join(path_no_mask, list_no_mask[i])\n",
    "        img = tf.io.read_file(c_path)\n",
    "        img = tf.image.decode_image(img, channels = 3, dtype = tf.float32)\n",
    "        img = img.numpy()\n",
    "        X_model_test.append(img)\n",
    "        y_model_test.append(1) "
   ]
  },
  {
   "cell_type": "code",
   "execution_count": null,
   "id": "e25e2fe2",
   "metadata": {
    "hidden": true
   },
   "outputs": [],
   "source": [
    "X_model_test"
   ]
  },
  {
   "cell_type": "code",
   "execution_count": null,
   "id": "c8c51931",
   "metadata": {
    "hidden": true
   },
   "outputs": [],
   "source": [
    "# detecting faces in each picture -- only one face per picture is correct\n",
    "faces_list = []\n",
    "for image in X_model_test:\n",
    "    faces = detect_faces(image)\n",
    "    faces_list.append(faces)\n",
    "    \n",
    "    "
   ]
  },
  {
   "cell_type": "code",
   "execution_count": null,
   "id": "dd7c4c6e",
   "metadata": {
    "hidden": true
   },
   "outputs": [],
   "source": [
    "faces_list"
   ]
  },
  {
   "cell_type": "code",
   "execution_count": null,
   "id": "8da73e04",
   "metadata": {
    "hidden": true
   },
   "outputs": [],
   "source": [
    "# sort all the pictures in which no face was detected \n",
    "\n",
    "faces_array = np.array(faces_list)\n",
    "faces_array = faces_array[[el != [] for el in faces_list]]\n",
    "\n",
    "X_model_test_array = np.array(X_model_test)\n",
    "X_model_test_array = X_model_test_array[[el != [] for el in faces_list]]\n",
    "\n",
    "y_model_test_array = np.array(y_model_test)\n",
    "y_model_test_array=y_model_test_array[[el != [] for el in faces_list]]\n",
    "\n",
    "number_of_detected_faces = len([el for el in faces_list if el != [] ])\n",
    "number_of_missed_faces = len([el for el in faces_list if el == [] ])"
   ]
  },
  {
   "cell_type": "code",
   "execution_count": null,
   "id": "9fade1af",
   "metadata": {
    "hidden": true
   },
   "outputs": [],
   "source": [
    "number_of_detected_faces"
   ]
  },
  {
   "cell_type": "code",
   "execution_count": null,
   "id": "0504de9d",
   "metadata": {
    "hidden": true
   },
   "outputs": [],
   "source": [
    "#predict wearing a mask or not \n",
    "predictions = []\n",
    "for faces , img in zip(faces_array,X_model_test_array):\n",
    "    predictions.append(pred_mask(faces, img))"
   ]
  },
  {
   "cell_type": "code",
   "execution_count": null,
   "id": "38a9bbb8",
   "metadata": {
    "hidden": true
   },
   "outputs": [],
   "source": [
    "#Show Pictures of more than one face\n",
    "two_faces = []\n",
    "for index, el in enumerate(predictions):\n",
    "    if len(el) > 1:\n",
    "        two_faces.append(index)\n",
    "        print(index)"
   ]
  },
  {
   "cell_type": "code",
   "execution_count": null,
   "id": "8549e8df",
   "metadata": {
    "hidden": true
   },
   "outputs": [],
   "source": [
    "for picture in two_faces:\n",
    "    for el in range(1,len(predictions[picture])):\n",
    "        predictions[picture].pop(el)"
   ]
  },
  {
   "cell_type": "code",
   "execution_count": null,
   "id": "a211211c",
   "metadata": {
    "hidden": true
   },
   "outputs": [],
   "source": [
    "# create an np array to pass in the confusion matrix\n",
    "pred_2 = []\n",
    "for el in predictions:\n",
    "    for e in el:\n",
    "        pred_2.append(e)\n",
    "pred_2 = np.array(pred_2)"
   ]
  },
  {
   "cell_type": "code",
   "execution_count": null,
   "id": "f7b112bf",
   "metadata": {
    "hidden": true,
    "scrolled": true
   },
   "outputs": [],
   "source": [
    "#create the confusion matrix\n",
    "from sklearn.metrics import confusion_matrix\n",
    "print(confusion_matrix(y_model_test_array, pred_2))"
   ]
  },
  {
   "cell_type": "code",
   "execution_count": null,
   "id": "6d22bd52",
   "metadata": {
    "hidden": true
   },
   "outputs": [],
   "source": [
    "np.unique(pred_2)"
   ]
  },
  {
   "cell_type": "code",
   "execution_count": null,
   "id": "c753a67d",
   "metadata": {
    "hidden": true
   },
   "outputs": [],
   "source": [
    "np.array(y_model_test)"
   ]
  },
  {
   "cell_type": "markdown",
   "id": "9e0097c9",
   "metadata": {},
   "source": [
    "### Face recognition Blaze Face"
   ]
  },
  {
   "cell_type": "code",
   "execution_count": 6,
   "id": "3d5d0f3f",
   "metadata": {},
   "outputs": [],
   "source": [
    "import cv2\n",
    "import mediapipe as mp"
   ]
  },
  {
   "cell_type": "code",
   "execution_count": 7,
   "id": "395eb8c7",
   "metadata": {},
   "outputs": [],
   "source": [
    "def load_picture(path_to_file):\n",
    "    image = cv2.imread(path_to_file)\n",
    "    image = cv2.cvtColor(cv2.flip(image, 1), cv2.COLOR_BGR2RGB)\n",
    "    return image\n",
    "    "
   ]
  },
  {
   "cell_type": "code",
   "execution_count": 8,
   "id": "487892ab",
   "metadata": {},
   "outputs": [],
   "source": [
    "mp_face_detection = mp.solutions.face_detection\n",
    "mp_drawing = mp.solutions.drawing_utils\n",
    "face_detection= mp_face_detection.FaceDetection(model_selection=1, min_detection_confidence=0.5)\n",
    "\n",
    "def detect_faces(image):\n",
    "    results = face_detection.process(image)\n",
    "    return results"
   ]
  },
  {
   "cell_type": "code",
   "execution_count": 9,
   "id": "7111bdff",
   "metadata": {},
   "outputs": [
    {
     "name": "stderr",
     "output_type": "stream",
     "text": [
      "INFO: Created TensorFlow Lite XNNPACK delegate for CPU.\n"
     ]
    }
   ],
   "source": [
    "def prep_prediction_multi(encoded_face):\n",
    "    img = tf.image.resize_with_pad(encoded_face, 224, 224)\n",
    "    img= tf.expand_dims(img,0)\n",
    "    img = img / 255\n",
    "    return img"
   ]
  },
  {
   "cell_type": "code",
   "execution_count": 10,
   "id": "fee504c4",
   "metadata": {},
   "outputs": [],
   "source": [
    "def prep_prediction_one(encoded_face):\n",
    "    img = tf.image.resize_with_pad(encoded_face, 224, 224)\n",
    "    img = img / 255\n",
    "    #img= tf.expand_dims(img,0)\n",
    "    return img"
   ]
  },
  {
   "cell_type": "code",
   "execution_count": 11,
   "id": "c01b27dd",
   "metadata": {},
   "outputs": [],
   "source": [
    "def converting_results_to_coordinates(results, image_shape):\n",
    "    faces_coordinates = []\n",
    "    if results.detections is not None:\n",
    "        for detection in results.detections:\n",
    "            box = detection.location_data.relative_bounding_box\n",
    "            x1 = max((box.xmin) * image_shape[1], 1)\n",
    "            y1 = max((box.ymin) * image_shape[0], 1)\n",
    "            x2 = min(x1 + box.width * image_shape[1], image_shape[1])\n",
    "            y2 = min(y1 + box.height * image_shape[0], image_shape[0])\n",
    "            faces_coordinates.append([int(x1), int(y1), int(x2), int(y2)])\n",
    "            #print(faces_coordinates[-1])\n",
    "    return faces_coordinates\n",
    "\n",
    "#transforming coordinates of the face into a cropped image\n",
    "def face_from_coordinates(image,x1,y1,x2,y2):\n",
    "    if y1 < 12 or x1 < 6:\n",
    "        return image[(y1):(y2), (x1):(x2)]\n",
    "    return image[(y1-10):(y2+10), (x1-5):(x2+5)]\n",
    "\n",
    "def converting_faces_to_array(image, faces_coordinates):\n",
    "    encoded_faces = []\n",
    "    for face in faces_coordinates:\n",
    "        encoded_faces.append(face_from_coordinates(image, *face))\n",
    "        #save_img('/frames/',\n",
    "    return encoded_faces\n",
    "\n",
    "def pred_mask(encoded_faces):\n",
    "    if len(encoded_faces) == 1:\n",
    "        face = prep_prediction_one(encoded_faces)\n",
    "        return [model.predict(face).argmax()]\n",
    "    elif len(encoded_faces) > 1:\n",
    "        faces = []\n",
    "        for j in range(len(encoded_faces)):\n",
    "            face = prep_prediction_multi(encoded_faces[j])\n",
    "            faces.append(face)\n",
    "        predictions = []\n",
    "        for face in faces:\n",
    "            predictions.append(model.predict(face).argmax())\n",
    "        return predictions\n",
    "    else:\n",
    "        return [3]"
   ]
  },
  {
   "cell_type": "code",
   "execution_count": 12,
   "id": "2b553382",
   "metadata": {},
   "outputs": [],
   "source": [
    "def draw_image(frame, faces_coordinates, predictions):\n",
    "    '''\n",
    "    faces_coordinates : list of lists of integers\n",
    "    '''\n",
    "    color_corresp = {\n",
    "        0: (255,0,0),\n",
    "        1: (255,165,0),\n",
    "        2: (0,255,0)\n",
    "    }\n",
    "\n",
    "    assert len(faces_coordinates) == len(predictions), 'Coord different than predictions.'\n",
    "\n",
    "    for index, box in enumerate(faces_coordinates):\n",
    "        # box: x1, y1, x2, y2\n",
    "        cv2.rectangle(frame,\n",
    "                        ((box[0]), (box[1])),\n",
    "                        ((box[2]), (box[3])),\n",
    "                        color_corresp[predictions[index]],3)\n",
    "    plt.imshow(frame)  "
   ]
  },
  {
   "cell_type": "code",
   "execution_count": 13,
   "id": "89ee186a",
   "metadata": {},
   "outputs": [
    {
     "name": "stderr",
     "output_type": "stream",
     "text": [
      "2021-09-16 18:10:57.032438: I tensorflow/core/platform/cpu_feature_guard.cc:142] This TensorFlow binary is optimized with oneAPI Deep Neural Network Library (oneDNN) to use the following CPU instructions in performance-critical operations:  AVX2 FMA\n",
      "To enable them in other operations, rebuild TensorFlow with the appropriate compiler flags.\n"
     ]
    }
   ],
   "source": [
    "save_path = ('../models/model_cnn_2_nd_mp2')\n",
    "model = tf.keras.models.load_model(save_path)"
   ]
  },
  {
   "cell_type": "code",
   "execution_count": 41,
   "id": "01995b2b",
   "metadata": {},
   "outputs": [
    {
     "name": "stdout",
     "output_type": "stream",
     "text": [
      "[0, 0, 1]\n"
     ]
    },
    {
     "data": {
      "image/png": "[encoded data removed]",
      "text/plain": [
       "<Figure size 432x288 with 1 Axes>"
      ]
     },
     "metadata": {
      "needs_background": "light"
     },
     "output_type": "display_data"
    }
   ],
   "source": [
    "path_to_file = '../raw_data/archive/images/maksssksksss5.png'\n",
    "#path_to_file = '../raw_data/face_no_mask/marc_no_mask.jpg'\n",
    "\n",
    "image = load_picture(path_to_file)\n",
    "image_shape = image.shape\n",
    "\n",
    "faces = detect_faces(image)\n",
    "faces_coordinates = converting_results_to_coordinates(faces, image_shape)\n",
    "encoded_faces = converting_faces_to_array(image, faces_coordinates)\n",
    "\n",
    "prediction = pred_mask(encoded_faces)\n",
    "print(prediction)\n",
    "#plt.imshow(encoded_faces[0])\n",
    "draw_image(image, faces_coordinates, prediction)"
   ]
  },
  {
   "cell_type": "code",
   "execution_count": 19,
   "id": "d7d17c7a",
   "metadata": {},
   "outputs": [
    {
     "data": {
      "text/plain": [
       "<matplotlib.image.AxesImage at 0x16f639c40>"
      ]
     },
     "execution_count": 19,
     "metadata": {},
     "output_type": "execute_result"
    },
    {
     "data": {
      "image/png": "[encoded data removed]",
      "text/plain": [
       "<Figure size 432x288 with 1 Axes>"
      ]
     },
     "metadata": {
      "needs_background": "light"
     },
     "output_type": "display_data"
    }
   ],
   "source": [
    "plt.imshow(image)"
   ]
  },
  {
   "cell_type": "markdown",
   "id": "d701473c",
   "metadata": {
    "heading_collapsed": true
   },
   "source": [
    "### Testing the classification networks"
   ]
  },
  {
   "cell_type": "markdown",
   "id": "26bc6cec",
   "metadata": {
    "hidden": true
   },
   "source": [
    "#### Creating test dataset "
   ]
  },
  {
   "cell_type": "code",
   "execution_count": 54,
   "id": "5fbd2dc7",
   "metadata": {
    "hidden": true
   },
   "outputs": [],
   "source": [
    "directory_no_mask = '../raw_data/testing_dataset/without_mask/'\n",
    "\n",
    "no_mask_names = os.listdir(directory_no_mask)\n",
    "\n",
    "no_mask_df = pd.DataFrame()\n",
    "no_mask_df['file_name'] = no_mask_names\n",
    "no_mask_df['file_name'] = directory_no_mask + no_mask_df['file_name']\n",
    "no_mask_df['label'] = 0"
   ]
  },
  {
   "cell_type": "code",
   "execution_count": 55,
   "id": "36e7e7f6",
   "metadata": {
    "hidden": true
   },
   "outputs": [],
   "source": [
    "directory_wrong_mask = '../raw_data/testing_dataset/with_incorrect_mask/'\n",
    "\n",
    "wrong_mask_names = os.listdir(directory_wrong_mask)\n",
    "\n",
    "wrong_mask_df = pd.DataFrame()\n",
    "wrong_mask_df['file_name'] = wrong_mask_names\n",
    "wrong_mask_df['file_name'] = directory_wrong_mask + wrong_mask_df['file_name']\n",
    "wrong_mask_df['label'] = 1"
   ]
  },
  {
   "cell_type": "code",
   "execution_count": 56,
   "id": "f4ba62d6",
   "metadata": {
    "hidden": true
   },
   "outputs": [],
   "source": [
    "directory_with_mask = '../raw_data/testing_dataset/with_mask/'\n",
    "\n",
    "with_mask_names = os.listdir(directory_with_mask)\n",
    "\n",
    "with_mask_df = pd.DataFrame()\n",
    "with_mask_df['file_name'] = with_mask_names\n",
    "with_mask_df['file_name'] = directory_with_mask + with_mask_df['file_name']\n",
    "with_mask_df['label'] = 2"
   ]
  },
  {
   "cell_type": "code",
   "execution_count": 57,
   "id": "b488a3a7",
   "metadata": {
    "hidden": true
   },
   "outputs": [
    {
     "data": {
      "text/plain": [
       "(5802, 2)"
      ]
     },
     "execution_count": 57,
     "metadata": {},
     "output_type": "execute_result"
    }
   ],
   "source": [
    "df = pd.concat([no_mask_df,wrong_mask_df,with_mask_df])\n",
    "df.shape"
   ]
  },
  {
   "cell_type": "code",
   "execution_count": 58,
   "id": "e79cfe24",
   "metadata": {
    "hidden": true
   },
   "outputs": [],
   "source": [
    "def read_img(image_file, label):\n",
    "    image = tf.io.read_file(image_file)\n",
    "    image = tf.image.decode_image(image, channels = 3, dtype = tf.float32)\n",
    "    image = tf.image.resize_with_pad(image, 224, 224)\n",
    "     #image = image / 255.\n",
    "    return image, label "
   ]
  },
  {
   "cell_type": "code",
   "execution_count": 59,
   "id": "d09f2b43",
   "metadata": {
    "hidden": true
   },
   "outputs": [],
   "source": [
    "X_test = df.iloc[:,0]\n",
    "y_test = df.iloc[:,1:]\n",
    "y_cat_test = to_categorical(y_test, num_classes=3)"
   ]
  },
  {
   "cell_type": "code",
   "execution_count": 60,
   "id": "f255f67f",
   "metadata": {
    "hidden": true
   },
   "outputs": [],
   "source": [
    "ds_test = tf.data.Dataset.from_tensor_slices((X_test.values, y_cat_test))\n",
    "ds_test = ds_test.map(read_img).batch(32)"
   ]
  },
  {
   "cell_type": "markdown",
   "id": "91c9c431",
   "metadata": {
    "hidden": true
   },
   "source": [
    "#### Reliable CNN"
   ]
  },
  {
   "cell_type": "code",
   "execution_count": 61,
   "id": "bd9f48aa",
   "metadata": {
    "hidden": true
   },
   "outputs": [],
   "source": [
    "save_path = ('../models/model_cnn_2_nd_mp')\n",
    "model = tf.keras.models.load_model(save_path)"
   ]
  },
  {
   "cell_type": "code",
   "execution_count": 62,
   "id": "f57b4280",
   "metadata": {
    "hidden": true
   },
   "outputs": [
    {
     "name": "stdout",
     "output_type": "stream",
     "text": [
      "0:00:19.952303\n"
     ]
    }
   ],
   "source": [
    "start = datetime.now()\n",
    "prediction_proba_m1 = model.predict(ds_test)\n",
    "end = datetime.now()\n",
    "print(end - start)\n",
    "\n",
    "prediction_m1 = prediction_proba_m1.argmax(axis = 1)"
   ]
  },
  {
   "cell_type": "code",
   "execution_count": 63,
   "id": "859b1a8b",
   "metadata": {
    "hidden": true
   },
   "outputs": [
    {
     "name": "stdout",
     "output_type": "stream",
     "text": [
      "              precision    recall  f1-score   support\n",
      "\n",
      "           0       1.00      0.99      1.00      2000\n",
      "           1       0.99      0.99      0.99      1910\n",
      "           2       0.99      1.00      0.99      1892\n",
      "\n",
      "    accuracy                           0.99      5802\n",
      "   macro avg       0.99      0.99      0.99      5802\n",
      "weighted avg       0.99      0.99      0.99      5802\n",
      "\n"
     ]
    }
   ],
   "source": [
    "print(classification_report(y_test, prediction_m1))"
   ]
  },
  {
   "cell_type": "code",
   "execution_count": 64,
   "id": "a4caddb5",
   "metadata": {
    "hidden": true
   },
   "outputs": [
    {
     "data": {
      "text/plain": [
       "<sklearn.metrics._plot.confusion_matrix.ConfusionMatrixDisplay at 0x170792400>"
      ]
     },
     "execution_count": 64,
     "metadata": {},
     "output_type": "execute_result"
    },
    {
     "data": {
      "image/png": "[encoded data removed]",
      "text/plain": [
       "<Figure size 432x288 with 2 Axes>"
      ]
     },
     "metadata": {
      "needs_background": "light"
     },
     "output_type": "display_data"
    }
   ],
   "source": [
    "disp = ConfusionMatrixDisplay(confusion_matrix(y_test, prediction_m1),display_labels = ['no_mask', 'wrong_mask', 'mask'])\n",
    "disp.plot()"
   ]
  },
  {
   "cell_type": "markdown",
   "id": "256e4b9d",
   "metadata": {
    "hidden": true
   },
   "source": [
    "#### Transfer Learning Model"
   ]
  },
  {
   "cell_type": "code",
   "execution_count": 382,
   "id": "77672e3f",
   "metadata": {
    "hidden": true
   },
   "outputs": [],
   "source": [
    "save_path = ('../models/model_1.1')\n",
    "model = tf.keras.models.load_model(save_path)"
   ]
  },
  {
   "cell_type": "code",
   "execution_count": 383,
   "id": "ad8714d9",
   "metadata": {
    "hidden": true
   },
   "outputs": [
    {
     "name": "stdout",
     "output_type": "stream",
     "text": [
      "0:01:42.589916\n"
     ]
    }
   ],
   "source": [
    "start = datetime.now()\n",
    "prediction_proba_m1 = model.predict(ds_test)\n",
    "end = datetime.now()\n",
    "print(end - start)\n",
    "\n",
    "prediction_m1 = prediction_proba_m1.argmax(axis = 1)"
   ]
  },
  {
   "cell_type": "code",
   "execution_count": 384,
   "id": "b671a751",
   "metadata": {
    "hidden": true
   },
   "outputs": [
    {
     "name": "stdout",
     "output_type": "stream",
     "text": [
      "              precision    recall  f1-score   support\n",
      "\n",
      "           0       0.95      1.00      0.97      2000\n",
      "           1       1.00      0.03      0.05      1910\n",
      "           2       0.52      1.00      0.68      1892\n",
      "\n",
      "    accuracy                           0.68      5802\n",
      "   macro avg       0.82      0.67      0.57      5802\n",
      "weighted avg       0.83      0.68      0.58      5802\n",
      "\n"
     ]
    }
   ],
   "source": [
    "print(classification_report(y_test, prediction_m1))"
   ]
  },
  {
   "cell_type": "code",
   "execution_count": 385,
   "id": "e2a7cbae",
   "metadata": {
    "hidden": true
   },
   "outputs": [
    {
     "data": {
      "text/plain": [
       "<sklearn.metrics._plot.confusion_matrix.ConfusionMatrixDisplay at 0x1ce373a60>"
      ]
     },
     "execution_count": 385,
     "metadata": {},
     "output_type": "execute_result"
    },
    {
     "data": {
      "image/png": "[encoded data removed]",
      "text/plain": [
       "<Figure size 432x288 with 2 Axes>"
      ]
     },
     "metadata": {
      "needs_background": "light"
     },
     "output_type": "display_data"
    }
   ],
   "source": [
    "disp = ConfusionMatrixDisplay(confusion_matrix(y_test, prediction_m1),display_labels = ['no_mask', 'wrong_mask', 'mask'])\n",
    "disp.plot()"
   ]
  },
  {
   "cell_type": "markdown",
   "id": "e2a8bf1d",
   "metadata": {},
   "source": [
    "### Creating a Dataset to test with blaze face "
   ]
  },
  {
   "cell_type": "code",
   "execution_count": 14,
   "id": "f200699b",
   "metadata": {},
   "outputs": [],
   "source": [
    "#creating a test set of pictures with mask and without mask\n",
    "\n",
    "path_mask = '../raw_data/testing_dataset/with_mask'\n",
    "path_no_mask = '../raw_data/testing_dataset/without_mask'\n",
    "path_incorrect_mask = '../raw_data/testing_dataset/with_incorrect_mask'\n",
    "\n",
    "#path_mask = '../raw_data/Dataset/with_mask'\n",
    "#path_no_mask = '../raw_data/Dataset/without_mask'\n",
    "#path_incorrect_mask = '../raw_data/Dataset/mask_weared_incorrect'\n",
    "\n",
    "list_mask = os.listdir(path_mask)\n",
    "list_mask.sort()\n",
    "\n",
    "\n",
    "list_no_mask = os.listdir(path_no_mask)\n",
    "list_no_mask.sort()\n",
    "\n",
    "list_incorrect_mask = os.listdir(path_incorrect_mask)\n",
    "list_incorrect_mask.sort()\n",
    "\n",
    "X_model_test = []\n",
    "y_model_test = []\n",
    "\n",
    "for i in range(0,1000):\n",
    "        c_path = os.path.join(path_mask, list_mask[i])\n",
    "        image = cv2.imread(c_path)\n",
    "        X_model_test.append(cv2.cvtColor(cv2.flip(image, 1), cv2.COLOR_BGR2RGB))\n",
    "        y_model_test.append(2) \n",
    "    \n",
    "\n",
    "for i in range(0,1000):\n",
    "        c_path = os.path.join(path_incorrect_mask, list_incorrect_mask[i])\n",
    "        X_model_test.append(plt.imread(c_path)[:, :, :])\n",
    "        y_model_test.append(1) \n",
    "        \n",
    "for i in range(0,1000):\n",
    "        c_path = os.path.join(path_no_mask, list_no_mask[i])\n",
    "        image = cv2.imread(c_path)\n",
    "        X_model_test.append(cv2.cvtColor(cv2.flip(image, 1), cv2.COLOR_BGR2RGB))\n",
    "        y_model_test.append(0) "
   ]
  },
  {
   "cell_type": "code",
   "execution_count": 15,
   "id": "482c0df0",
   "metadata": {},
   "outputs": [],
   "source": [
    "# detecting faces in each picture -- only one face per picture is correct\n",
    "faces_list = []\n",
    "for image in X_model_test:\n",
    "    image_shape = image.shape\n",
    "    faces = detect_faces(image)\n",
    "    faces_coordinates = converting_results_to_coordinates(faces, image_shape)\n",
    "    encoded_faces = converting_faces_to_array(image, faces_coordinates)\n",
    "    faces_list.append(encoded_faces)\n",
    "    "
   ]
  },
  {
   "cell_type": "code",
   "execution_count": 16,
   "id": "c71c0337",
   "metadata": {},
   "outputs": [
    {
     "data": {
      "text/plain": [
       "370"
      ]
     },
     "execution_count": 16,
     "metadata": {},
     "output_type": "execute_result"
    }
   ],
   "source": [
    "no_faces_array = [index for index,  el in enumerate(faces_list) if el == []]\n",
    "len(no_faces_array)"
   ]
  },
  {
   "cell_type": "code",
   "execution_count": 17,
   "id": "272ef389",
   "metadata": {
    "scrolled": true
   },
   "outputs": [
    {
     "name": "stderr",
     "output_type": "stream",
     "text": [
      "/var/folders/fm/h79l0z951tj_sk_5h_0mjn7h0000gn/T/ipykernel_91389/1244963916.py:3: VisibleDeprecationWarning: Creating an ndarray from ragged nested sequences (which is a list-or-tuple of lists-or-tuples-or ndarrays with different lengths or shapes) is deprecated. If you meant to do this, you must specify 'dtype=object' when creating the ndarray\n",
      "  faces_array = np.array(faces_list)\n"
     ]
    }
   ],
   "source": [
    "# sort all the pictures in which no face was detected \n",
    "\n",
    "faces_array = np.array(faces_list)\n",
    "faces_array = faces_array[[el != [] for el in faces_list]]\n",
    "\n",
    "X_model_test_array = np.array(X_model_test)\n",
    "X_model_test_array = X_model_test_array[[el != [] for el in faces_list]]\n",
    "\n",
    "y_model_test_array = np.array(y_model_test)\n",
    "y_model_test_array=y_model_test_array[[el != [] for el in faces_list]]\n",
    "\n",
    "number_of_detected_faces = len([el for el in faces_list if el != [] ])\n",
    "number_of_missed_faces = len([el for el in faces_list if el == [] ])"
   ]
  },
  {
   "cell_type": "code",
   "execution_count": 18,
   "id": "1ddfaedf",
   "metadata": {},
   "outputs": [
    {
     "data": {
      "text/plain": [
       "2630"
      ]
     },
     "execution_count": 18,
     "metadata": {},
     "output_type": "execute_result"
    }
   ],
   "source": [
    "number_of_detected_faces"
   ]
  },
  {
   "cell_type": "code",
   "execution_count": 19,
   "id": "289c1022",
   "metadata": {},
   "outputs": [
    {
     "name": "stderr",
     "output_type": "stream",
     "text": [
      "2021-09-16 18:11:29.005913: I tensorflow/compiler/mlir/mlir_graph_optimization_pass.cc:185] None of the MLIR Optimization Passes are enabled (registered 2)\n"
     ]
    }
   ],
   "source": [
    "#predict wearing a mask or not \n",
    "predictions = []\n",
    "for faces in faces_array:\n",
    "    predictions.append(pred_mask(faces))"
   ]
  },
  {
   "cell_type": "code",
   "execution_count": 20,
   "id": "a38d19b5",
   "metadata": {},
   "outputs": [
    {
     "name": "stdout",
     "output_type": "stream",
     "text": [
      "40\n",
      "132\n",
      "409\n",
      "553\n",
      "655\n",
      "739\n",
      "886\n",
      "966\n",
      "1296\n",
      "1773\n",
      "2197\n",
      "2306\n",
      "2616\n"
     ]
    }
   ],
   "source": [
    "#Show Pictures of more than one face\n",
    "two_faces = []\n",
    "for index, el in enumerate(predictions):\n",
    "    if len(el) > 1:\n",
    "        two_faces.append(index)\n",
    "        print(index)"
   ]
  },
  {
   "cell_type": "code",
   "execution_count": 21,
   "id": "fb2b9061",
   "metadata": {},
   "outputs": [],
   "source": [
    "for picture in two_faces:\n",
    "    for el in range(1,len(predictions[picture])):\n",
    "        predictions[picture].pop(el)"
   ]
  },
  {
   "cell_type": "code",
   "execution_count": 22,
   "id": "a3bd90c2",
   "metadata": {},
   "outputs": [],
   "source": [
    "# create an np array to pass in the confusion matrix\n",
    "pred_2 = []\n",
    "for el in predictions:\n",
    "    for e in el:\n",
    "        pred_2.append(e)\n",
    "pred_2 = np.array(pred_2)"
   ]
  },
  {
   "cell_type": "code",
   "execution_count": 28,
   "id": "11591594",
   "metadata": {
    "scrolled": true
   },
   "outputs": [
    {
     "name": "stdout",
     "output_type": "stream",
     "text": [
      "[[1.30592992 0.00134771 0.02695418]\n",
      " [0.08221024 0.85309973 0.27493261]\n",
      " [0.00808625 0.02425876 0.96765499]]\n"
     ]
    }
   ],
   "source": [
    "#create the confusion matrix\n",
    "from sklearn.metrics import confusion_matrix\n",
    "print(confusion_matrix(y_model_test_array, pred_2)/ 742)"
   ]
  },
  {
   "cell_type": "code",
   "execution_count": null,
   "id": "19260ceb",
   "metadata": {},
   "outputs": [],
   "source": []
  },
  {
   "cell_type": "code",
   "execution_count": null,
   "id": "43457406",
   "metadata": {},
   "outputs": [],
   "source": [
    "def preprocess_faces(encoded_faces):\n",
    "    if len(encoded_faces) == 1:\n",
    "        face = prep_prediction_one(encoded_faces)\n",
    "        return face\n",
    "    elif len(encoded_faces) > 1:\n",
    "        face = prep_prediction_one(np.array([encoded_faces[0]]))\n",
    "        return face\n",
    "        "
   ]
  },
  {
   "cell_type": "code",
   "execution_count": null,
   "id": "ddd0f197",
   "metadata": {},
   "outputs": [],
   "source": [
    "images = []\n",
    "for faces in faces_array:\n",
    "    images.append(preprocess_faces(np.array(faces)/255))"
   ]
  },
  {
   "cell_type": "code",
   "execution_count": null,
   "id": "3c988fac",
   "metadata": {},
   "outputs": [],
   "source": [
    "predictions_  = []\n",
    "for image in images: \n",
    "    #predictions_.append(image.shape)\n",
    "    predictions_.append(model.predict(image))"
   ]
  },
  {
   "cell_type": "code",
   "execution_count": null,
   "id": "f5d89e0b",
   "metadata": {},
   "outputs": [],
   "source": [
    "predictions_[2]"
   ]
  },
  {
   "cell_type": "code",
   "execution_count": null,
   "id": "34efc6df",
   "metadata": {},
   "outputs": [],
   "source": [
    "pred_array = np.array([list(el[0]) for el in predictions_])\n",
    "pred_array.shape"
   ]
  },
  {
   "cell_type": "code",
   "execution_count": null,
   "id": "915419cc",
   "metadata": {},
   "outputs": [],
   "source": [
    "import seaborn as sns\n",
    "thres = pd.DataFrame({'target': y_model_test_array,\n",
    "                    'wrong_score': pred_array[:,1]})\n",
    "sns.catplot(data = thres,x = 'target', y='wrong_score', kind = 'box', showfliers = False)"
   ]
  },
  {
   "cell_type": "code",
   "execution_count": null,
   "id": "9d138b79",
   "metadata": {},
   "outputs": [],
   "source": [
    ".confusion_matrix(y_model_test_array, pred_array.argmax(axis = 1))"
   ]
  },
  {
   "cell_type": "code",
   "execution_count": null,
   "id": "82a0662e",
   "metadata": {},
   "outputs": [],
   "source": []
  },
  {
   "cell_type": "code",
   "execution_count": null,
   "id": "113db270",
   "metadata": {},
   "outputs": [],
   "source": []
  },
  {
   "cell_type": "markdown",
   "id": "677b1d52",
   "metadata": {
    "heading_collapsed": true
   },
   "source": [
    "### Converting model into tf.js model"
   ]
  },
  {
   "cell_type": "code",
   "execution_count": null,
   "id": "920ac353",
   "metadata": {
    "hidden": true
   },
   "outputs": [],
   "source": [
    "! pip install tensorflowjs"
   ]
  },
  {
   "cell_type": "code",
   "execution_count": 335,
   "id": "3b77ea29",
   "metadata": {
    "hidden": true
   },
   "outputs": [],
   "source": [
    "import tensorflowjs as tfjs"
   ]
  },
  {
   "cell_type": "code",
   "execution_count": 336,
   "id": "0d8bf8f7",
   "metadata": {
    "hidden": true
   },
   "outputs": [],
   "source": [
    "save_path = ('../models/model_cnn_2_nd_mp2')\n",
    "model = tf.keras.models.load_model(save_path)"
   ]
  },
  {
   "cell_type": "code",
   "execution_count": 337,
   "id": "b21bf5f8",
   "metadata": {
    "hidden": true
   },
   "outputs": [],
   "source": [
    "tfjs.converters.save_keras_model(model, 'model_cnn_2_nd_mp2_js')"
   ]
  },
  {
   "cell_type": "code",
   "execution_count": null,
   "id": "afbbd8de",
   "metadata": {
    "hidden": true
   },
   "outputs": [],
   "source": []
  }
 ],
 "metadata": {
  "kernelspec": {
   "display_name": "Python 3 (ipykernel)",
   "language": "python",
   "name": "python3"
  },
  "language_info": {
   "codemirror_mode": {
    "name": "ipython",
    "version": 3
   },
   "file_extension": ".py",
   "mimetype": "text/x-python",
   "name": "python",
   "nbconvert_exporter": "python",
   "pygments_lexer": "ipython3",
   "version": "3.8.6"
  },
  "toc": {
   "base_numbering": 1,
   "nav_menu": {},
   "number_sections": true,
   "sideBar": true,
   "skip_h1_title": false,
   "title_cell": "Table of Contents",
   "title_sidebar": "Contents",
   "toc_cell": false,
   "toc_position": {},
   "toc_section_display": true,
   "toc_window_display": false
  }
 },
 "nbformat": 4,
 "nbformat_minor": 5
}
